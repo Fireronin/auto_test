{
 "cells": [
  {
   "attachments": {},
   "cell_type": "markdown",
   "metadata": {},
   "source": [
    "Here are more examples with outputs save to notebook"
   ]
  },
  {
   "cell_type": "code",
   "execution_count": 1,
   "metadata": {},
   "outputs": [
    {
     "name": "stdout",
     "output_type": "stream",
     "text": [
      "Using OpenAI API endpoint: https://nlpschool.openai.azure.com/\n",
      "Using OpenAI API key: 4190d8ee88874b39aeacab7b6cc467eb\n"
     ]
    },
    {
     "ename": "ImportError",
     "evalue": "cannot import name 'tester' from 'auto_test' (/home/rymek/miniconda3/envs/ml2/lib/python3.10/site-packages/auto_test/__init__.py)",
     "output_type": "error",
     "traceback": [
      "\u001b[0;31m---------------------------------------------------------------------------\u001b[0m",
      "\u001b[0;31mImportError\u001b[0m                               Traceback (most recent call last)",
      "Cell \u001b[0;32mIn[1], line 1\u001b[0m\n\u001b[0;32m----> 1\u001b[0m \u001b[39mfrom\u001b[39;00m \u001b[39mauto_test\u001b[39;00m \u001b[39mimport\u001b[39;00m tester\n\u001b[1;32m      2\u001b[0m \u001b[39mfrom\u001b[39;00m \u001b[39mfunctools\u001b[39;00m \u001b[39mimport\u001b[39;00m lru_cache,cache\n\u001b[1;32m      4\u001b[0m \u001b[39m@tester\u001b[39m()\n\u001b[1;32m      5\u001b[0m \u001b[39m@cache\u001b[39m\n\u001b[1;32m      6\u001b[0m \u001b[39mdef\u001b[39;00m \u001b[39mfib\u001b[39m(n):\n",
      "\u001b[0;31mImportError\u001b[0m: cannot import name 'tester' from 'auto_test' (/home/rymek/miniconda3/envs/ml2/lib/python3.10/site-packages/auto_test/__init__.py)"
     ]
    }
   ],
   "source": [
    "from auto_test import tester\n",
    "from functools import lru_cache,cache\n",
    "\n",
    "@tester()\n",
    "@cache\n",
    "def fib(n):\n",
    "    if n < 2:\n",
    "        return n\n",
    "    return fib(n - 2) + fib(n - 1)"
   ]
  },
  {
   "cell_type": "code",
   "execution_count": 3,
   "metadata": {},
   "outputs": [
    {
     "name": "stdout",
     "output_type": "stream",
     "text": [
      "\u001b[34mTest:\u001b[0m\n",
      "\u001b[34mdef\u001b[39;49;00m \u001b[32mtest\u001b[39;49;00m():\u001b[37m\u001b[39;49;00m\n",
      "    \u001b[37m#creating graph\u001b[39;49;00m\u001b[37m\u001b[39;49;00m\n",
      "    graph = {\u001b[37m\u001b[39;49;00m\n",
      "        \u001b[33m'\u001b[39;49;00m\u001b[33mA\u001b[39;49;00m\u001b[33m'\u001b[39;49;00m: {\u001b[33m'\u001b[39;49;00m\u001b[33mB\u001b[39;49;00m\u001b[33m'\u001b[39;49;00m: -\u001b[34m1\u001b[39;49;00m, \u001b[33m'\u001b[39;49;00m\u001b[33mC\u001b[39;49;00m\u001b[33m'\u001b[39;49;00m: \u001b[34m4\u001b[39;49;00m},\u001b[37m\u001b[39;49;00m\n",
      "        \u001b[33m'\u001b[39;49;00m\u001b[33mB\u001b[39;49;00m\u001b[33m'\u001b[39;49;00m: {\u001b[33m'\u001b[39;49;00m\u001b[33mC\u001b[39;49;00m\u001b[33m'\u001b[39;49;00m: \u001b[34m3\u001b[39;49;00m, \u001b[33m'\u001b[39;49;00m\u001b[33mD\u001b[39;49;00m\u001b[33m'\u001b[39;49;00m: \u001b[34m2\u001b[39;49;00m, \u001b[33m'\u001b[39;49;00m\u001b[33mE\u001b[39;49;00m\u001b[33m'\u001b[39;49;00m: \u001b[34m2\u001b[39;49;00m},\u001b[37m\u001b[39;49;00m\n",
      "        \u001b[33m'\u001b[39;49;00m\u001b[33mC\u001b[39;49;00m\u001b[33m'\u001b[39;49;00m: {},\u001b[37m\u001b[39;49;00m\n",
      "        \u001b[33m'\u001b[39;49;00m\u001b[33mD\u001b[39;49;00m\u001b[33m'\u001b[39;49;00m: {\u001b[33m'\u001b[39;49;00m\u001b[33mB\u001b[39;49;00m\u001b[33m'\u001b[39;49;00m: \u001b[34m1\u001b[39;49;00m, \u001b[33m'\u001b[39;49;00m\u001b[33mC\u001b[39;49;00m\u001b[33m'\u001b[39;49;00m: \u001b[34m5\u001b[39;49;00m},\u001b[37m\u001b[39;49;00m\n",
      "        \u001b[33m'\u001b[39;49;00m\u001b[33mE\u001b[39;49;00m\u001b[33m'\u001b[39;49;00m: {\u001b[33m'\u001b[39;49;00m\u001b[33mD\u001b[39;49;00m\u001b[33m'\u001b[39;49;00m: -\u001b[34m3\u001b[39;49;00m}\u001b[37m\u001b[39;49;00m\n",
      "    }\u001b[37m\u001b[39;49;00m\n",
      "    source = \u001b[33m'\u001b[39;49;00m\u001b[33mA\u001b[39;49;00m\u001b[33m'\u001b[39;49;00m\u001b[37m\u001b[39;49;00m\n",
      "    \u001b[34mtry\u001b[39;49;00m:\u001b[37m\u001b[39;49;00m\n",
      "        distance, predecessor = bellman_ford(graph, source)\u001b[37m\u001b[39;49;00m\n",
      "        \u001b[34massert\u001b[39;49;00m \u001b[34mFalse\u001b[39;49;00m, \u001b[33m\"\u001b[39;49;00m\u001b[33mNegative weight cycle not detected\u001b[39;49;00m\u001b[33m\"\u001b[39;49;00m\u001b[37m\u001b[39;49;00m\n",
      "    \u001b[34mexcept\u001b[39;49;00m \u001b[36mAssertionError\u001b[39;49;00m \u001b[34mas\u001b[39;49;00m error:\u001b[37m\u001b[39;49;00m\n",
      "        \u001b[34massert\u001b[39;49;00m \u001b[36mstr\u001b[39;49;00m(error) == \u001b[33m\"\u001b[39;49;00m\u001b[33mNegative weight cycle.\u001b[39;49;00m\u001b[33m\"\u001b[39;49;00m\u001b[37m\u001b[39;49;00m\n",
      "    \u001b[34mexcept\u001b[39;49;00m:\u001b[37m\u001b[39;49;00m\n",
      "        \u001b[34massert\u001b[39;49;00m \u001b[34mFalse\u001b[39;49;00m, \u001b[33m\"\u001b[39;49;00m\u001b[33mAn unexpected error occurred.\u001b[39;49;00m\u001b[33m\"\u001b[39;49;00m\u001b[37m\u001b[39;49;00m\n",
      "\n",
      "\u001b[34mTest result:\u001b[0m\n",
      "\u001b[32mTest passed\u001b[0m\n"
     ]
    }
   ],
   "source": [
    "@test(intent=\"Test: Graph with negative cycle\")\n",
    "def bellman_ford(graph, source):\n",
    "    # Step 1: Prepare the distance and predecessor for each node\n",
    "    distance, predecessor = dict(), dict()\n",
    "    for node in graph:\n",
    "        distance[node], predecessor[node] = float('inf'), None\n",
    "    distance[source] = 0\n",
    "\n",
    "    # Step 2: Relax the edges\n",
    "    for _ in range(len(graph) - 1):\n",
    "        for node in graph:\n",
    "            for neighbour in graph[node]:\n",
    "                # If the distance between the node and the neighbour is lower than the current, store it\n",
    "                if distance[neighbour] > distance[node] + graph[node][neighbour]:\n",
    "                    distance[neighbour], predecessor[neighbour] = distance[node] + graph[node][neighbour], node\n",
    "\n",
    "    # Step 3: Check for negative weight cycles\n",
    "    for node in graph:\n",
    "        for neighbour in graph[node]:\n",
    "            assert distance[neighbour] <= distance[node] + graph[node][neighbour], \"Negative weight cycle.\"\n",
    "\n",
    "    return distance, predecessor\n"
   ]
  },
  {
   "cell_type": "code",
   "execution_count": 4,
   "metadata": {},
   "outputs": [
    {
     "name": "stdout",
     "output_type": "stream",
     "text": [
      "\u001b[34mSummary:\u001b[0m\n",
      "This code is implementing the Bellman-Ford algorithm for finding the shortest path between a source node and other nodes in a graph.\n",
      "\u001b[34mTest:\u001b[0m\n",
      "\u001b[34mdef\u001b[39;49;00m \u001b[32mtest\u001b[39;49;00m():\u001b[37m\u001b[39;49;00m\n",
      "    \u001b[37m# Create a large random graph\u001b[39;49;00m\u001b[37m\u001b[39;49;00m\n",
      "    graph = {}\u001b[37m\u001b[39;49;00m\n",
      "    \u001b[34mfor\u001b[39;49;00m i \u001b[35min\u001b[39;49;00m \u001b[36mrange\u001b[39;49;00m(\u001b[34m100\u001b[39;49;00m):\u001b[37m\u001b[39;49;00m\n",
      "        neighbours = {}\u001b[37m\u001b[39;49;00m\n",
      "        \u001b[34mfor\u001b[39;49;00m j \u001b[35min\u001b[39;49;00m \u001b[36mrange\u001b[39;49;00m(\u001b[34m100\u001b[39;49;00m):\u001b[37m\u001b[39;49;00m\n",
      "            \u001b[34mif\u001b[39;49;00m i != j:\u001b[37m\u001b[39;49;00m\n",
      "                neighbours[j] = random.randint(\u001b[34m1\u001b[39;49;00m, \u001b[34m10\u001b[39;49;00m)\u001b[37m\u001b[39;49;00m\n",
      "        graph[i] = neighbours\u001b[37m\u001b[39;49;00m\n",
      "\u001b[37m\u001b[39;49;00m\n",
      "    \u001b[37m# Test the function for each node as the source\u001b[39;49;00m\u001b[37m\u001b[39;49;00m\n",
      "    \u001b[34mfor\u001b[39;49;00m source \u001b[35min\u001b[39;49;00m \u001b[36mrange\u001b[39;49;00m(\u001b[34m100\u001b[39;49;00m):\u001b[37m\u001b[39;49;00m\n",
      "        distance, predecessor = boo(graph, source)\u001b[37m\u001b[39;49;00m\n",
      "        \u001b[34massert\u001b[39;49;00m distance[source] == \u001b[34m0\u001b[39;49;00m\u001b[37m\u001b[39;49;00m\n",
      "\u001b[37m\u001b[39;49;00m\n",
      "        \u001b[37m# Check that the distance to all other nodes is correct\u001b[39;49;00m\u001b[37m\u001b[39;49;00m\n",
      "        \u001b[34mfor\u001b[39;49;00m target \u001b[35min\u001b[39;49;00m graph:\u001b[37m\u001b[39;49;00m\n",
      "            \u001b[34mif\u001b[39;49;00m target != source:\u001b[37m\u001b[39;49;00m\n",
      "                \u001b[34massert\u001b[39;49;00m distance[target] == get_shortest_path(graph, source, target)\u001b[37m\u001b[39;49;00m\n",
      "\u001b[37m\u001b[39;49;00m\n",
      "        \u001b[37m# Check that the predecessor is correct for each node\u001b[39;49;00m\u001b[37m\u001b[39;49;00m\n",
      "        \u001b[34mfor\u001b[39;49;00m target \u001b[35min\u001b[39;49;00m graph:\u001b[37m\u001b[39;49;00m\n",
      "            \u001b[34mif\u001b[39;49;00m target != source:\u001b[37m\u001b[39;49;00m\n",
      "                \u001b[34massert\u001b[39;49;00m predecessor[target] == get_predecessor(graph, source, target, predecessor)\u001b[37m\u001b[39;49;00m\n",
      "\u001b[37m\u001b[39;49;00m\n",
      "\u001b[34mdef\u001b[39;49;00m \u001b[32mget_shortest_path\u001b[39;49;00m(graph, source, target):\u001b[37m\u001b[39;49;00m\n",
      "    queue = []\u001b[37m\u001b[39;49;00m\n",
      "    heapq.heappush(queue, (\u001b[34m0\u001b[39;49;00m, source))\u001b[37m\u001b[39;49;00m\n",
      "    visited = \u001b[36mset\u001b[39;49;00m()\u001b[37m\u001b[39;49;00m\n",
      "    \u001b[34mwhile\u001b[39;49;00m queue:\u001b[37m\u001b[39;49;00m\n",
      "        (distance, node) = heapq.heappop(queue)\u001b[37m\u001b[39;49;00m\n",
      "        \u001b[34mif\u001b[39;49;00m node \u001b[35mnot\u001b[39;49;00m \u001b[35min\u001b[39;49;00m visited:\u001b[37m\u001b[39;49;00m\n",
      "            visited.add(node)\u001b[37m\u001b[39;49;00m\n",
      "            \u001b[34mfor\u001b[39;49;00m neighbour, weight \u001b[35min\u001b[39;49;00m graph[node].items():\u001b[37m\u001b[39;49;00m\n",
      "                \u001b[34mif\u001b[39;49;00m neighbour == target:\u001b[37m\u001b[39;49;00m\n",
      "                    \u001b[34mreturn\u001b[39;49;00m distance + weight\u001b[37m\u001b[39;49;00m\n",
      "                \u001b[34melse\u001b[39;49;00m:\u001b[37m\u001b[39;49;00m\n",
      "                    heapq.heappush(queue, (distance + weight, neighbour))\u001b[37m\u001b[39;49;00m\n",
      "    \u001b[34mreturn\u001b[39;49;00m \u001b[36mfloat\u001b[39;49;00m(\u001b[33m'\u001b[39;49;00m\u001b[33minf\u001b[39;49;00m\u001b[33m'\u001b[39;49;00m)\u001b[37m\u001b[39;49;00m\n",
      "\u001b[37m\u001b[39;49;00m\n",
      "\u001b[34mdef\u001b[39;49;00m \u001b[32mget_predecessor\u001b[39;49;00m(graph, source, target, predecessor):\u001b[37m\u001b[39;49;00m\n",
      "    node = target\u001b[37m\u001b[39;49;00m\n",
      "    \u001b[34mwhile\u001b[39;49;00m node != source:\u001b[37m\u001b[39;49;00m\n",
      "        \u001b[34mif\u001b[39;49;00m node \u001b[35mis\u001b[39;49;00m \u001b[34mNone\u001b[39;49;00m:\u001b[37m\u001b[39;49;00m\n",
      "            \u001b[34mreturn\u001b[39;49;00m \u001b[34mNone\u001b[39;49;00m\u001b[37m\u001b[39;49;00m\n",
      "        node = predecessor[node]\u001b[37m\u001b[39;49;00m\n",
      "    \u001b[34mreturn\u001b[39;49;00m node\u001b[37m\u001b[39;49;00m\n",
      "\n",
      "\u001b[34mTest result:\u001b[0m\n",
      "\u001b[32mTest passed\u001b[0m\n"
     ]
    }
   ],
   "source": [
    "from auto_test.config import auto_test_config\n",
    "from functools import lru_cache,cache\n",
    "auto_test_config.SUMMARIZE = True\n",
    "\n",
    "@test(intent=\"Test on large random graph\")\n",
    "def boo(graph, source):\n",
    "    # Step 1: Prepare the distance and predecessor for each node\n",
    "    distance, predecessor = dict(), dict()\n",
    "    for node in graph:\n",
    "        distance[node], predecessor[node] = float('inf'), None\n",
    "    distance[source] = 0\n",
    "\n",
    "    # Step 2: Relax the edges\n",
    "    for _ in range(len(graph) - 1):\n",
    "        for node in graph:\n",
    "            for neighbour in graph[node]:\n",
    "                # If the distance between the node and the neighbour is lower than the current, store it\n",
    "                if distance[neighbour] > distance[node] + graph[node][neighbour]:\n",
    "                    distance[neighbour], predecessor[neighbour] = distance[node] + graph[node][neighbour], node\n",
    "\n",
    "    return distance, predecessor"
   ]
  }
 ],
 "metadata": {
  "kernelspec": {
   "display_name": "ml2",
   "language": "python",
   "name": "python3"
  },
  "language_info": {
   "codemirror_mode": {
    "name": "ipython",
    "version": 3
   },
   "file_extension": ".py",
   "mimetype": "text/x-python",
   "name": "python",
   "nbconvert_exporter": "python",
   "pygments_lexer": "ipython3",
   "version": "3.10.8"
  },
  "orig_nbformat": 4
 },
 "nbformat": 4,
 "nbformat_minor": 2
}
